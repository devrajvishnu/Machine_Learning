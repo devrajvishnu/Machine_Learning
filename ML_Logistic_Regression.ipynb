{
  "cells": [
    {
      "cell_type": "markdown",
      "metadata": {
        "id": "view-in-github",
        "colab_type": "text"
      },
      "source": [
        "<a href=\"https://colab.research.google.com/github/devrajvishnu/Machine_Learning/blob/main/ML_Logistic_Regression.ipynb\" target=\"_parent\"><img src=\"https://colab.research.google.com/assets/colab-badge.svg\" alt=\"Open In Colab\"/></a>"
      ]
    },
    {
      "cell_type": "markdown",
      "metadata": {
        "id": "QsUcHSE0TcRM"
      },
      "source": [
        "# Logistic Regression\n",
        "\n",
        "In this lesson, we're going to implement logistic regression for a classification task where we want to probabilistically determine the outcome for a given set of inputs. We will understand the basic math behind it, implement it in just NumPy and then in PyTorch."
      ]
    },
    {
      "cell_type": "markdown",
      "metadata": {
        "id": "VoMq0eFRvugb"
      },
      "source": [
        "# Overview"
      ]
    },
    {
      "cell_type": "markdown",
      "metadata": {
        "id": "orlWnRz2-wyO"
      },
      "source": [
        "Logistic regression is an extension on linear regression (both are generalized linear methods). We will still learn to model a line (plane) that models $y$ given $X$. Except now we are dealing with classification problems as opposed to regression problems so we'll be predicting probability distributions as opposed to a discrete value. We'll be using the softmax operation to normalize our logits ($XW$) to derive probabilities.\n",
        "\n",
        "Our goal is to learn a logistic model $\\hat{y}$ that models $y$ given $X$. \n",
        "\n",
        "$ \\hat{y} = \\frac{e^{XW_y}}{\\sum_j e^{XW}} $ \n",
        "* $\\hat{y}$ = prediction | $\\in \\mathbb{R}^{NX1}$ ($N$ is the number of samples)\n",
        "* $X$ = inputs | $\\in \\mathbb{R}^{NXD}$ ($D$ is the number of features)\n",
        "* $W$ = weights | $\\in \\mathbb{R}^{DXC}$ ($C$ is the number of classes)\n",
        "* bias term ($b$) excluded to avoid crowding the notations\n",
        "\n",
        "\n",
        "This function is known as the multinomial logistic regression or the softmax classifier. The softmax classifier will use the linear equation ($z=XW$) and normalize it (using the softmax function) to produce the probability for class y given the inputs."
      ]
    },
    {
      "cell_type": "markdown",
      "metadata": {
        "id": "T4Y55tpzIjOa"
      },
      "source": [
        "* **Objective:**  Predict the probability of class $y$ given the inputs $X$. The softmax classifier normalizes the linear outputs to determine class probabilities. \n",
        "* **Advantages:**\n",
        "  * Can predict class probabilities given a set on inputs.\n",
        "* **Disadvantages:**\n",
        "  * Sensitive to outliers since objective is to minimize cross entropy loss. Support vector machines (SVMs) are a good alternative to counter outliers.\n",
        "* **Miscellaneous:** Softmax classifier is going to used widely in neural network architectures as the last layer since it produces class probabilities."
      ]
    },
    {
      "cell_type": "markdown",
      "metadata": {
        "id": "3SYAo2FHl1I3"
      },
      "source": [
        "# Set up"
      ]
    },
    {
      "cell_type": "code",
      "execution_count": 1,
      "metadata": {
        "id": "uNdOxyfqF1jn"
      },
      "outputs": [],
      "source": [
        "import numpy as np\n",
        "import random"
      ]
    },
    {
      "cell_type": "code",
      "execution_count": 2,
      "metadata": {
        "id": "wZdhpBZfF1mC"
      },
      "outputs": [],
      "source": [
        "SEED = 1234"
      ]
    },
    {
      "cell_type": "code",
      "execution_count": 3,
      "metadata": {
        "id": "izOKq9r2F1pT"
      },
      "outputs": [],
      "source": [
        "# Set seed for reproducibility\n",
        "np.random.seed(SEED)\n",
        "random.seed(SEED)"
      ]
    },
    {
      "cell_type": "markdown",
      "metadata": {
        "id": "00B5uEM8Tb0d"
      },
      "source": [
        "## Load data"
      ]
    },
    {
      "cell_type": "markdown",
      "metadata": {
        "id": "sYNIM3PxQGgo"
      },
      "source": [
        "We'll used some synthesized data to train our models on. The task is to determine whether a tumor will be benign (harmless) or malignant (harmful) based on leukocyte (white blood cells) count and blood pressure. Note that this is a synthetic dataset that has no clinical relevance."
      ]
    },
    {
      "cell_type": "code",
      "execution_count": 4,
      "metadata": {
        "id": "A8rspXhNEgrL"
      },
      "outputs": [],
      "source": [
        "import matplotlib.pyplot as plt\n",
        "import pandas as pd\n",
        "from pandas.plotting import scatter_matrix"
      ]
    },
    {
      "cell_type": "code",
      "execution_count": 5,
      "metadata": {
        "colab": {
          "base_uri": "https://localhost:8080/",
          "height": 206
        },
        "id": "7alqmyzXtgE8",
        "outputId": "1c4cab31-af6f-477e-dc7f-8e4e24918881"
      },
      "outputs": [
        {
          "output_type": "execute_result",
          "data": {
            "text/plain": [
              "   leukocyte_count  blood_pressure tumor_class\n",
              "0        15.335860       14.637535      benign\n",
              "1         9.857535       14.518942   malignant\n",
              "2        17.632579       15.869585      benign\n",
              "3        18.369174       14.774547      benign\n",
              "4        14.509367       15.892224   malignant"
            ],
            "text/html": [
              "\n",
              "  <div id=\"df-d543bbf5-c025-4634-8703-0b1174876c49\">\n",
              "    <div class=\"colab-df-container\">\n",
              "      <div>\n",
              "<style scoped>\n",
              "    .dataframe tbody tr th:only-of-type {\n",
              "        vertical-align: middle;\n",
              "    }\n",
              "\n",
              "    .dataframe tbody tr th {\n",
              "        vertical-align: top;\n",
              "    }\n",
              "\n",
              "    .dataframe thead th {\n",
              "        text-align: right;\n",
              "    }\n",
              "</style>\n",
              "<table border=\"1\" class=\"dataframe\">\n",
              "  <thead>\n",
              "    <tr style=\"text-align: right;\">\n",
              "      <th></th>\n",
              "      <th>leukocyte_count</th>\n",
              "      <th>blood_pressure</th>\n",
              "      <th>tumor_class</th>\n",
              "    </tr>\n",
              "  </thead>\n",
              "  <tbody>\n",
              "    <tr>\n",
              "      <th>0</th>\n",
              "      <td>15.335860</td>\n",
              "      <td>14.637535</td>\n",
              "      <td>benign</td>\n",
              "    </tr>\n",
              "    <tr>\n",
              "      <th>1</th>\n",
              "      <td>9.857535</td>\n",
              "      <td>14.518942</td>\n",
              "      <td>malignant</td>\n",
              "    </tr>\n",
              "    <tr>\n",
              "      <th>2</th>\n",
              "      <td>17.632579</td>\n",
              "      <td>15.869585</td>\n",
              "      <td>benign</td>\n",
              "    </tr>\n",
              "    <tr>\n",
              "      <th>3</th>\n",
              "      <td>18.369174</td>\n",
              "      <td>14.774547</td>\n",
              "      <td>benign</td>\n",
              "    </tr>\n",
              "    <tr>\n",
              "      <th>4</th>\n",
              "      <td>14.509367</td>\n",
              "      <td>15.892224</td>\n",
              "      <td>malignant</td>\n",
              "    </tr>\n",
              "  </tbody>\n",
              "</table>\n",
              "</div>\n",
              "      <button class=\"colab-df-convert\" onclick=\"convertToInteractive('df-d543bbf5-c025-4634-8703-0b1174876c49')\"\n",
              "              title=\"Convert this dataframe to an interactive table.\"\n",
              "              style=\"display:none;\">\n",
              "        \n",
              "  <svg xmlns=\"http://www.w3.org/2000/svg\" height=\"24px\"viewBox=\"0 0 24 24\"\n",
              "       width=\"24px\">\n",
              "    <path d=\"M0 0h24v24H0V0z\" fill=\"none\"/>\n",
              "    <path d=\"M18.56 5.44l.94 2.06.94-2.06 2.06-.94-2.06-.94-.94-2.06-.94 2.06-2.06.94zm-11 1L8.5 8.5l.94-2.06 2.06-.94-2.06-.94L8.5 2.5l-.94 2.06-2.06.94zm10 10l.94 2.06.94-2.06 2.06-.94-2.06-.94-.94-2.06-.94 2.06-2.06.94z\"/><path d=\"M17.41 7.96l-1.37-1.37c-.4-.4-.92-.59-1.43-.59-.52 0-1.04.2-1.43.59L10.3 9.45l-7.72 7.72c-.78.78-.78 2.05 0 2.83L4 21.41c.39.39.9.59 1.41.59.51 0 1.02-.2 1.41-.59l7.78-7.78 2.81-2.81c.8-.78.8-2.07 0-2.86zM5.41 20L4 18.59l7.72-7.72 1.47 1.35L5.41 20z\"/>\n",
              "  </svg>\n",
              "      </button>\n",
              "      \n",
              "  <style>\n",
              "    .colab-df-container {\n",
              "      display:flex;\n",
              "      flex-wrap:wrap;\n",
              "      gap: 12px;\n",
              "    }\n",
              "\n",
              "    .colab-df-convert {\n",
              "      background-color: #E8F0FE;\n",
              "      border: none;\n",
              "      border-radius: 50%;\n",
              "      cursor: pointer;\n",
              "      display: none;\n",
              "      fill: #1967D2;\n",
              "      height: 32px;\n",
              "      padding: 0 0 0 0;\n",
              "      width: 32px;\n",
              "    }\n",
              "\n",
              "    .colab-df-convert:hover {\n",
              "      background-color: #E2EBFA;\n",
              "      box-shadow: 0px 1px 2px rgba(60, 64, 67, 0.3), 0px 1px 3px 1px rgba(60, 64, 67, 0.15);\n",
              "      fill: #174EA6;\n",
              "    }\n",
              "\n",
              "    [theme=dark] .colab-df-convert {\n",
              "      background-color: #3B4455;\n",
              "      fill: #D2E3FC;\n",
              "    }\n",
              "\n",
              "    [theme=dark] .colab-df-convert:hover {\n",
              "      background-color: #434B5C;\n",
              "      box-shadow: 0px 1px 3px 1px rgba(0, 0, 0, 0.15);\n",
              "      filter: drop-shadow(0px 1px 2px rgba(0, 0, 0, 0.3));\n",
              "      fill: #FFFFFF;\n",
              "    }\n",
              "  </style>\n",
              "\n",
              "      <script>\n",
              "        const buttonEl =\n",
              "          document.querySelector('#df-d543bbf5-c025-4634-8703-0b1174876c49 button.colab-df-convert');\n",
              "        buttonEl.style.display =\n",
              "          google.colab.kernel.accessAllowed ? 'block' : 'none';\n",
              "\n",
              "        async function convertToInteractive(key) {\n",
              "          const element = document.querySelector('#df-d543bbf5-c025-4634-8703-0b1174876c49');\n",
              "          const dataTable =\n",
              "            await google.colab.kernel.invokeFunction('convertToInteractive',\n",
              "                                                     [key], {});\n",
              "          if (!dataTable) return;\n",
              "\n",
              "          const docLinkHtml = 'Like what you see? Visit the ' +\n",
              "            '<a target=\"_blank\" href=https://colab.research.google.com/notebooks/data_table.ipynb>data table notebook</a>'\n",
              "            + ' to learn more about interactive tables.';\n",
              "          element.innerHTML = '';\n",
              "          dataTable['output_type'] = 'display_data';\n",
              "          await google.colab.output.renderOutput(dataTable, element);\n",
              "          const docLink = document.createElement('div');\n",
              "          docLink.innerHTML = docLinkHtml;\n",
              "          element.appendChild(docLink);\n",
              "        }\n",
              "      </script>\n",
              "    </div>\n",
              "  </div>\n",
              "  "
            ]
          },
          "metadata": {},
          "execution_count": 5
        }
      ],
      "source": [
        "# Read from CSV to Pandas DataFrame\n",
        "url = \"https://raw.githubusercontent.com/GokuMohandas/Made-With-ML/main/datasets/tumors.csv\"\n",
        "df = pd.read_csv(url, header=0) # load\n",
        "df = df.sample(frac=1).reset_index(drop=True) # shuffle\n",
        "df.head()"
      ]
    },
    {
      "cell_type": "code",
      "execution_count": 6,
      "metadata": {
        "id": "3aqJxfKmnYTs"
      },
      "outputs": [],
      "source": [
        "# Define X and y\n",
        "X = df[[\"leukocyte_count\", \"blood_pressure\"]].values\n",
        "y = df[\"tumor_class\"].values"
      ]
    },
    {
      "cell_type": "code",
      "execution_count": 7,
      "metadata": {
        "colab": {
          "base_uri": "https://localhost:8080/",
          "height": 279
        },
        "id": "lpoF3_EgDtPl",
        "outputId": "30346c25-2c14-4677-c8f6-b383cc0d83dc"
      },
      "outputs": [
        {
          "output_type": "display_data",
          "data": {
            "text/plain": [
              "<Figure size 432x288 with 1 Axes>"
            ],
            "image/png": "[encoded data removed]"
          },
          "metadata": {
            "needs_background": "light"
          }
        }
      ],
      "source": [
        "# Plot data\n",
        "colors = {\"benign\": \"red\", \"malignant\": \"blue\"}\n",
        "plt.scatter(X[:, 0], X[:, 1], c=[colors[_y] for _y in y], s=25, edgecolors=\"k\")\n",
        "plt.xlabel('leukocyte count')\n",
        "plt.ylabel('blood pressure')\n",
        "plt.legend([\"malignant\", \"benign\"], loc=\"upper right\")\n",
        "plt.show()"
      ]
    },
    {
      "cell_type": "markdown",
      "metadata": {
        "id": "23rUN1uTpoc4"
      },
      "source": [
        "## Split data"
      ]
    },
    {
      "cell_type": "markdown",
      "metadata": {
        "id": "ujHPintkze4U"
      },
      "source": [
        "We want to split our dataset so that each of the three splits has the same distribution of classes so that we can train and evaluate properly. We can easily achieve this by telling scikit-learn's [`train_test_split`](https://scikit-learn.org/stable/modules/generated/sklearn.model_selection.train_test_split.html) function what to `stratify` on. "
      ]
    },
    {
      "cell_type": "code",
      "execution_count": 8,
      "metadata": {
        "id": "UrYcWmcggDHb"
      },
      "outputs": [],
      "source": [
        "import collections\n",
        "from sklearn.model_selection import train_test_split"
      ]
    },
    {
      "cell_type": "code",
      "execution_count": 9,
      "metadata": {
        "id": "ekgu8AS_zZOs"
      },
      "outputs": [],
      "source": [
        "TRAIN_SIZE = 0.7\n",
        "VAL_SIZE = 0.15\n",
        "TEST_SIZE = 0.15"
      ]
    },
    {
      "cell_type": "code",
      "execution_count": 10,
      "metadata": {
        "id": "27h91LX0pp7F"
      },
      "outputs": [],
      "source": [
        "def train_val_test_split(X, y, train_size):\n",
        "    \"\"\"Split dataset into data splits.\"\"\"\n",
        "    X_train, X_, y_train, y_ = train_test_split(X, y, train_size=TRAIN_SIZE, stratify=y)\n",
        "    X_val, X_test, y_val, y_test = train_test_split(X_, y_, train_size=0.5, stratify=y_)\n",
        "    return X_train, X_val, X_test, y_train, y_val, y_test"
      ]
    },
    {
      "cell_type": "code",
      "execution_count": 11,
      "metadata": {
        "colab": {
          "base_uri": "https://localhost:8080/"
        },
        "id": "D4fy2vUjr-Qe",
        "outputId": "8c35bef6-11f4-444c-db21-8d2186a09358"
      },
      "outputs": [
        {
          "output_type": "stream",
          "name": "stdout",
          "text": [
            "X_train: (700, 2), y_train: (700,)\n",
            "X_val: (150, 2), y_val: (150,)\n",
            "X_test: (150, 2), y_test: (150,)\n",
            "Sample point: [14.95081332 14.86441305] → malignant\n"
          ]
        }
      ],
      "source": [
        "# Create data splits\n",
        "X_train, X_val, X_test, y_train, y_val, y_test = train_val_test_split(\n",
        "    X=X, y=y, train_size=TRAIN_SIZE)\n",
        "print (f\"X_train: {X_train.shape}, y_train: {y_train.shape}\")\n",
        "print (f\"X_val: {X_val.shape}, y_val: {y_val.shape}\")\n",
        "print (f\"X_test: {X_test.shape}, y_test: {y_test.shape}\")\n",
        "print (f\"Sample point: {X_train[0]} → {y_train[0]}\")"
      ]
    },
    {
      "cell_type": "markdown",
      "metadata": {
        "id": "kRlhY__n14bd"
      },
      "source": [
        "Now let's see how many samples per class each data split has:"
      ]
    },
    {
      "cell_type": "code",
      "execution_count": 12,
      "metadata": {
        "colab": {
          "base_uri": "https://localhost:8080/"
        },
        "id": "VPnzBFsd2SvC",
        "outputId": "73e3eb54-0a8d-47e1-f8f2-56cd652a7ae7"
      },
      "outputs": [
        {
          "output_type": "stream",
          "name": "stdout",
          "text": [
            "Classes: {'benign': 389, 'malignant': 611}\n",
            "m:b = 1.57\n"
          ]
        }
      ],
      "source": [
        "# Overall class distribution\n",
        "class_counts = dict(collections.Counter(y))\n",
        "print (f\"Classes: {class_counts}\")\n",
        "print (f'm:b = {class_counts[\"malignant\"]/class_counts[\"benign\"]:.2f}')"
      ]
    },
    {
      "cell_type": "code",
      "execution_count": 14,
      "metadata": {
        "colab": {
          "base_uri": "https://localhost:8080/",
          "height": 130
        },
        "id": "exGHJSxq2SzF",
        "outputId": "4e3250a6-70ac-4a22-8e59-6c0617834870"
      },
      "outputs": [
        {
          "output_type": "error",
          "ename": "SyntaxError",
          "evalue": "ignored",
          "traceback": [
            "\u001b[0;36m  File \u001b[0;32m\"<ipython-input-14-716a77501c74>\"\u001b[0;36m, line \u001b[0;32m5\u001b[0m\n\u001b[0;31m    print (f\"train m:b = {train_class_counts[\"malignant\"]/train_class_counts[\"benign\"]:.2f}\")\u001b[0m\n\u001b[0m                                              ^\u001b[0m\n\u001b[0;31mSyntaxError\u001b[0m\u001b[0;31m:\u001b[0m f-string: unmatched '['\n"
          ]
        }
      ],
      "source": [
        "# Per data split class distribution\n",
        "train_class_counts = dict(collections.Counter(y_train))\n",
        "val_class_counts = dict(collections.Counter(y_val))\n",
        "test_class_counts = dict(collections.Counter(y_test))\n",
        "print (f\"train m:b = {train_class_counts[\"malignant\"]/train_class_counts[\"benign\"]:.2f}\")\n",
        "print (f\"val m:b = {val_class_counts[\"malignant\"]/val_class_counts[\"benign\"]:.2f}\")\n",
        "print (f\"test m:b = {test_class_counts[\"malignant\"]/test_class_counts[\"benign\"]:.2f}\")"
      ]
    },
    {
      "cell_type": "markdown",
      "metadata": {
        "id": "lLHG5_vpHQ3d"
      },
      "source": [
        "## Label encoding"
      ]
    },
    {
      "cell_type": "markdown",
      "metadata": {
        "id": "YGWO8zDCHTFp"
      },
      "source": [
        "You'll notice that our class labels are text. We need to encode them into integers so we can use them in our models. We could scikit-learn's [`LabelEncoder`](https://scikit-learn.org/stable/modules/generated/sklearn.preprocessing.LabelEncoder.html#sklearn.preprocessing.LabelEncoder) to do this but we're going to write our own simple label encoder class so we can see what's happening under the hood. "
      ]
    },
    {
      "cell_type": "code",
      "execution_count": 15,
      "metadata": {
        "id": "t7XSFDGlGQfE"
      },
      "outputs": [],
      "source": [
        "import itertools"
      ]
    },
    {
      "cell_type": "code",
      "execution_count": 16,
      "metadata": {
        "id": "KPIsL1kAHkhu"
      },
      "outputs": [],
      "source": [
        "class LabelEncoder(object):\n",
        "    \"\"\"Label encoder for tag labels.\"\"\"\n",
        "    def __init__(self, class_to_index={}):\n",
        "        self.class_to_index = class_to_index or {}  # mutable defaults ;)\n",
        "        self.index_to_class = {v: k for k, v in self.class_to_index.items()}\n",
        "        self.classes = list(self.class_to_index.keys())\n",
        "\n",
        "    def __len__(self):\n",
        "        return len(self.class_to_index)\n",
        "\n",
        "    def __str__(self):\n",
        "        return f\"<LabelEncoder(num_classes={len(self)})>\"\n",
        "\n",
        "    def fit(self, y):\n",
        "        classes = np.unique(y)\n",
        "        for i, class_ in enumerate(classes):\n",
        "            self.class_to_index[class_] = i\n",
        "        self.index_to_class = {v: k for k, v in self.class_to_index.items()}\n",
        "        self.classes = list(self.class_to_index.keys())\n",
        "        return self\n",
        "\n",
        "    def encode(self, y):\n",
        "        encoded = np.zeros((len(y)), dtype=int)\n",
        "        for i, item in enumerate(y):\n",
        "            encoded[i] = self.class_to_index[item]\n",
        "        return encoded\n",
        "\n",
        "    def decode(self, y):\n",
        "        classes = []\n",
        "        for i, item in enumerate(y):\n",
        "            classes.append(self.index_to_class[item])\n",
        "        return classes\n",
        "\n",
        "    def save(self, fp):\n",
        "        with open(fp, \"w\") as fp:\n",
        "            contents = {'class_to_index': self.class_to_index}\n",
        "            json.dump(contents, fp, indent=4, sort_keys=False)\n",
        "\n",
        "    @classmethod\n",
        "    def load(cls, fp):\n",
        "        with open(fp, \"r\") as fp:\n",
        "            kwargs = json.load(fp=fp)\n",
        "        return cls(**kwargs)"
      ]
    },
    {
      "cell_type": "code",
      "execution_count": 17,
      "metadata": {
        "colab": {
          "base_uri": "https://localhost:8080/"
        },
        "id": "hcfHtYFtHkmo",
        "outputId": "4a5b1f53-5357-40d6-d98f-ff46c96aab57"
      },
      "outputs": [
        {
          "output_type": "execute_result",
          "data": {
            "text/plain": [
              "{'benign': 0, 'malignant': 1}"
            ]
          },
          "metadata": {},
          "execution_count": 17
        }
      ],
      "source": [
        "# Fit\n",
        "label_encoder = LabelEncoder()\n",
        "label_encoder.fit(y_train)\n",
        "label_encoder.class_to_index"
      ]
    },
    {
      "cell_type": "code",
      "execution_count": 18,
      "metadata": {
        "colab": {
          "base_uri": "https://localhost:8080/"
        },
        "id": "4hbPtvg4HoqE",
        "outputId": "d8fe173c-80e6-4644-9114-b35428da4de7"
      },
      "outputs": [
        {
          "output_type": "stream",
          "name": "stdout",
          "text": [
            "y_train[0]: malignant\n",
            "y_train[0]: 1\n",
            "decoded: ['malignant']\n"
          ]
        }
      ],
      "source": [
        "# Encoder\n",
        "print (f\"y_train[0]: {y_train[0]}\")\n",
        "y_train = label_encoder.encode(y_train)\n",
        "y_val = label_encoder.encode(y_val)\n",
        "y_test = label_encoder.encode(y_test)\n",
        "print (f\"y_train[0]: {y_train[0]}\")\n",
        "print (f\"decoded: {label_encoder.decode([y_train[0]])}\")"
      ]
    },
    {
      "cell_type": "markdown",
      "metadata": {
        "id": "nkAmzEwVHs6E"
      },
      "source": [
        "We also want to calculate our class weights, which are useful for weighting the loss function during training. It tells the model to focus on samples from an under-represented class. The loss section below will show how to incorporate these weights."
      ]
    },
    {
      "cell_type": "code",
      "execution_count": 19,
      "metadata": {
        "colab": {
          "base_uri": "https://localhost:8080/"
        },
        "id": "U7MTxcrcHotG",
        "outputId": "40b51cef-f67d-4080-d0d8-ee6d2ff61caa"
      },
      "outputs": [
        {
          "output_type": "stream",
          "name": "stdout",
          "text": [
            "counts: [272 428]\n",
            "weights: {0: 0.003676470588235294, 1: 0.002336448598130841}\n"
          ]
        }
      ],
      "source": [
        "# Class weights\n",
        "counts = np.bincount(y_train)\n",
        "class_weights = {i: 1.0/count for i, count in enumerate(counts)}\n",
        "print (f\"counts: {counts}\\nweights: {class_weights}\")"
      ]
    },
    {
      "cell_type": "markdown",
      "metadata": {
        "id": "IodMyhnAJUg_"
      },
      "source": [
        "## Standardize data"
      ]
    },
    {
      "cell_type": "markdown",
      "metadata": {
        "id": "QRhNHi9YJfDm"
      },
      "source": [
        "We need to standardize our data (zero mean and unit variance) so a specific feature's magnitude doesn't affect how the model learns its weights. We're only going to standardize the inputs X because our outputs y are class values."
      ]
    },
    {
      "cell_type": "code",
      "execution_count": 20,
      "metadata": {
        "id": "rjIz1KKYJWI7"
      },
      "outputs": [],
      "source": [
        "from sklearn.preprocessing import StandardScaler"
      ]
    },
    {
      "cell_type": "code",
      "execution_count": 21,
      "metadata": {
        "id": "hP6VTXSiJWM1"
      },
      "outputs": [],
      "source": [
        "# Standardize the data (mean=0, std=1) using training data\n",
        "X_scaler = StandardScaler().fit(X_train)"
      ]
    },
    {
      "cell_type": "code",
      "execution_count": 22,
      "metadata": {
        "id": "kn2SDd28Jwna"
      },
      "outputs": [],
      "source": [
        "# Apply scaler on training and test data (don't standardize outputs for classification)\n",
        "X_train = X_scaler.transform(X_train)\n",
        "X_val = X_scaler.transform(X_val)\n",
        "X_test = X_scaler.transform(X_test)"
      ]
    },
    {
      "cell_type": "code",
      "execution_count": 23,
      "metadata": {
        "colab": {
          "base_uri": "https://localhost:8080/"
        },
        "id": "zBAu7GkJJwq8",
        "outputId": "007f2224-c445-42f6-d1f2-11a785827406"
      },
      "outputs": [
        {
          "output_type": "stream",
          "name": "stdout",
          "text": [
            "X_test[0]: mean: -0.1, std: 1.0\n",
            "X_test[1]: mean: -0.1, std: 1.0\n"
          ]
        }
      ],
      "source": [
        "# Check (means should be ~0 and std should be ~1)\n",
        "print (f\"X_test[0]: mean: {np.mean(X_test[:, 0], axis=0):.1f}, std: {np.std(X_test[:, 0], axis=0):.1f}\")\n",
        "print (f\"X_test[1]: mean: {np.mean(X_test[:, 1], axis=0):.1f}, std: {np.std(X_test[:, 1], axis=0):.1f}\")"
      ]
    },
    {
      "cell_type": "markdown",
      "metadata": {
        "id": "CYH7kRTd9WoJ"
      },
      "source": [
        "# NumPy\n",
        "\n",
        "Now that we have our data prepared, we'll first implement logistic regression using just NumPy. This will let us really understand the underlying operations. It's normal to find the math and code in this section slightly complex. You can still read each of the steps to build intuition for when we implement this using PyTorch."
      ]
    },
    {
      "cell_type": "markdown",
      "metadata": {
        "id": "Y-gUbD71-yiX"
      },
      "source": [
        "Our goal is to learn a logistic model $\\hat{y}$ that models $y$ given $X$. \n",
        "\n",
        "$ \\hat{y} = \\frac{e^{XW_y}}{\\sum e^{XW}} $ \n",
        "* $\\hat{y}$ = prediction | $\\in \\mathbb{R}^{NX1}$ ($N$ is the number of samples)\n",
        "* $X$ = inputs | $\\in \\mathbb{R}^{NXD}$ ($D$ is the number of features)\n",
        "* $W$ = weights | $\\in \\mathbb{R}^{DXC}$ ($C$ is the number of classes)"
      ]
    },
    {
      "cell_type": "markdown",
      "metadata": {
        "id": "6wcc5lbdH_Hi"
      },
      "source": [
        "> We are going to use multinomial logistic regression even though our task only involves two classes because you can generalize the softmax classifier to any number of classes."
      ]
    },
    {
      "cell_type": "markdown",
      "metadata": {
        "id": "YOTrUTpwWWba"
      },
      "source": [
        "## Initialize weights"
      ]
    },
    {
      "cell_type": "markdown",
      "metadata": {
        "id": "o-Os5f8mad5_"
      },
      "source": [
        "1. Randomly initialize the model's weights $W$."
      ]
    },
    {
      "cell_type": "code",
      "execution_count": 24,
      "metadata": {
        "id": "jdPe3f01Wg6X"
      },
      "outputs": [],
      "source": [
        "INPUT_DIM = X_train.shape[1] # X is 2-dimensional\n",
        "NUM_CLASSES = len(label_encoder.classes) # y has two possibilities (benign or malignant)"
      ]
    },
    {
      "cell_type": "code",
      "execution_count": 25,
      "metadata": {
        "colab": {
          "base_uri": "https://localhost:8080/"
        },
        "id": "6x4heep29c_F",
        "outputId": "b2b2d53f-c052-490c-e377-8d8fece3779a"
      },
      "outputs": [
        {
          "output_type": "stream",
          "name": "stdout",
          "text": [
            "W: (2, 2)\n",
            "b: (1, 2)\n"
          ]
        }
      ],
      "source": [
        "# Initialize random weights\n",
        "W = 0.01 * np.random.randn(INPUT_DIM, NUM_CLASSES)\n",
        "b = np.zeros((1, NUM_CLASSES))\n",
        "print (f\"W: {W.shape}\")\n",
        "print (f\"b: {b.shape}\")"
      ]
    },
    {
      "cell_type": "markdown",
      "metadata": {
        "id": "FdnkMO9AWsNB"
      },
      "source": [
        "## Model"
      ]
    },
    {
      "cell_type": "markdown",
      "metadata": {
        "id": "7Fh8YOJjae28"
      },
      "source": [
        "2. Feed inputs $X$ into the model to receive the logits ($z=XW$). Apply the softmax operation on the logits to get the class probabilies $\\hat{y}$ in one-hot encoded form. For example, if there are three classes, the predicted class probabilities could look like [0.3, 0.3, 0.4]. \n",
        "  * $ \\hat{y} = softmax(z) = softmax(XW) = \\frac{e^{XW_y}}{\\sum_j e^{XW}} $"
      ]
    },
    {
      "cell_type": "code",
      "execution_count": 26,
      "metadata": {
        "colab": {
          "base_uri": "https://localhost:8080/"
        },
        "id": "EXQkZOwW-otw",
        "outputId": "d4b8fa44-921d-4fea-faa9-90c8b8a336c2"
      },
      "outputs": [
        {
          "output_type": "stream",
          "name": "stdout",
          "text": [
            "logits: (700, 2)\n",
            "sample: [-0.0069945   0.00647147]\n"
          ]
        }
      ],
      "source": [
        "# Forward pass [NX2] · [2X2] + [1,2] = [NX2]\n",
        "logits = np.dot(X_train, W) + b\n",
        "print (f\"logits: {logits.shape}\")\n",
        "print (f\"sample: {logits[0]}\")"
      ]
    },
    {
      "cell_type": "code",
      "execution_count": 27,
      "metadata": {
        "colab": {
          "base_uri": "https://localhost:8080/"
        },
        "id": "Ak9FfYIJ-ozJ",
        "outputId": "31ca284e-df83-4d4d-bfd0-5d79678c2562"
      },
      "outputs": [
        {
          "output_type": "stream",
          "name": "stdout",
          "text": [
            "y_hat: (700, 2)\n",
            "sample: [0.49663356 0.50336644]\n"
          ]
        }
      ],
      "source": [
        "# Normalization via softmax to obtain class probabilities\n",
        "exp_logits = np.exp(logits)\n",
        "y_hat = exp_logits / np.sum(exp_logits, axis=1, keepdims=True)\n",
        "print (f\"y_hat: {y_hat.shape}\")\n",
        "print (f\"sample: {y_hat[0]}\")"
      ]
    },
    {
      "cell_type": "markdown",
      "metadata": {
        "id": "qQ39Xr8QW22V"
      },
      "source": [
        "## Loss"
      ]
    },
    {
      "cell_type": "markdown",
      "metadata": {
        "id": "VxxORg12amXv"
      },
      "source": [
        " 3. Compare the predictions $\\hat{y}$ (ex.  [0.3, 0.3, 0.4]) with the actual target values $y$ (ex. class 2 would look like [0, 0, 1]) with the objective (cost) function to determine loss $J$. A common objective function for logistics regression is cross-entropy loss. \n",
        "\n",
        "  * $J(\\theta) = - \\sum_i ln(\\hat{y_i}) = - \\sum_i ln (\\frac{e^{X_iW_y}}{\\sum_j e^{X_iW}}) $"
      ]
    },
    {
      "cell_type": "code",
      "execution_count": 28,
      "metadata": {
        "colab": {
          "base_uri": "https://localhost:8080/"
        },
        "id": "_dfuMmW2Y01f",
        "outputId": "edd3daec-05b9-4870-aec0-48410b14e040"
      },
      "outputs": [
        {
          "output_type": "stream",
          "name": "stdout",
          "text": [
            "loss: 0.70\n"
          ]
        }
      ],
      "source": [
        "# Loss\n",
        "correct_class_logprobs = -np.log(y_hat[range(len(y_hat)), y_train])\n",
        "loss = np.sum(correct_class_logprobs) / len(y_train)\n",
        "print (f\"loss: {loss:.2f}\")"
      ]
    },
    {
      "cell_type": "markdown",
      "metadata": {
        "id": "iIz5JF8rW5uM"
      },
      "source": [
        "## Gradients"
      ]
    },
    {
      "cell_type": "markdown",
      "metadata": {
        "id": "g9nWUa-3b2lw"
      },
      "source": [
        "4. Calculate the gradient of loss $J(\\theta)$ w.r.t to the model weights. Let's assume that our classes are mutually exclusive (a set of inputs could only belong to one class).\n",
        " * $\\frac{\\partial{J}}{\\partial{W_j}} = \\frac{\\partial{J}}{\\partial{\\hat{y}}}\\frac{\\partial{\\hat{y}}}{\\partial{W_j}} = - \\frac{1}{\\hat{y}}\\frac{\\partial{\\hat{y}}}{\\partial{W_j}} = - \\frac{1}{\\frac{e^{XW_y}}{\\sum_j e^{XW}}}\\frac{\\sum_j e^{XW}e^{XW_y}0 - e^{XW_y}e^{XW_j}X}{(\\sum_j e^{XW})^2} = \\frac{Xe^{XW_j}}{\\sum_j e^{XW}} = X\\hat{y}$\n",
        "  * $\\frac{\\partial{J}}{\\partial{W_y}} = \\frac{\\partial{J}}{\\partial{\\hat{y}}}\\frac{\\partial{\\hat{y}}}{\\partial{W_y}} = - \\frac{1}{\\hat{y}}\\frac{\\partial{\\hat{y}}}{\\partial{W_y}} = - \\frac{1}{\\frac{e^{XW_y}}{\\sum_j e^{XW}}}\\frac{\\sum_j e^{XW}e^{XW_y}X - e^{W_yX}e^{XW_y}X}{(\\sum_j e^{XW})^2} = \\frac{1}{\\hat{y}}(X\\hat{y} - X\\hat{y}^2) = X(\\hat{y}-1)$"
      ]
    },
    {
      "cell_type": "code",
      "execution_count": 29,
      "metadata": {
        "id": "9_-LGJWwZqhW"
      },
      "outputs": [],
      "source": [
        "# Backpropagation\n",
        "dscores = y_hat\n",
        "dscores[range(len(y_hat)), y_train] -= 1\n",
        "dscores /= len(y_train)\n",
        "dW = np.dot(X_train.T, dscores)\n",
        "db = np.sum(dscores, axis=0, keepdims=True)"
      ]
    },
    {
      "cell_type": "markdown",
      "metadata": {
        "id": "Fuw-7BVrW-_M"
      },
      "source": [
        "## Update weights"
      ]
    },
    {
      "cell_type": "markdown",
      "metadata": {
        "id": "QaOhLrqib7t9"
      },
      "source": [
        "5. Update the weights $ W $  using a small learning rate $ \\alpha $. The updates will penalize the probability for the incorrect classes (j) and encourage a higher probability for the correct class (y).\n",
        "  * $W_j = W_j - \\alpha\\frac{\\partial{J}}{\\partial{W_j}}$"
      ]
    },
    {
      "cell_type": "code",
      "execution_count": 30,
      "metadata": {
        "id": "8pDGJRmQXC39"
      },
      "outputs": [],
      "source": [
        "LEARNING_RATE = 1e-1"
      ]
    },
    {
      "cell_type": "code",
      "execution_count": 31,
      "metadata": {
        "id": "qy6LjHNPZqe1"
      },
      "outputs": [],
      "source": [
        "# Update weights\n",
        "W += -LEARNING_RATE * dW\n",
        "b += -LEARNING_RATE * db"
      ]
    },
    {
      "cell_type": "markdown",
      "metadata": {
        "id": "TsxBN1l8XUVn"
      },
      "source": [
        "## Training"
      ]
    },
    {
      "cell_type": "markdown",
      "metadata": {
        "id": "AFjnVvCqb_Kk"
      },
      "source": [
        "6. Repeat steps 2 - 5 to minimize the loss and train the model."
      ]
    },
    {
      "cell_type": "code",
      "execution_count": 32,
      "metadata": {
        "id": "wa9N6rLtXVYB"
      },
      "outputs": [],
      "source": [
        "NUM_EPOCHS = 50"
      ]
    },
    {
      "cell_type": "code",
      "execution_count": 33,
      "metadata": {
        "id": "aUh575cGP0Ge"
      },
      "outputs": [],
      "source": [
        "# Initialize random weights\n",
        "W = 0.01 * np.random.randn(INPUT_DIM, NUM_CLASSES)\n",
        "b = np.zeros((1, NUM_CLASSES))"
      ]
    },
    {
      "cell_type": "code",
      "execution_count": 34,
      "metadata": {
        "colab": {
          "base_uri": "https://localhost:8080/"
        },
        "id": "vCipe3EhZqbl",
        "outputId": "dcf533ee-89c3-426d-c20e-2058abde7667"
      },
      "outputs": [
        {
          "output_type": "stream",
          "name": "stdout",
          "text": [
            "Epoch: 0, loss: 0.684, accuracy: 0.897\n",
            "Epoch: 10, loss: 0.446, accuracy: 0.970\n",
            "Epoch: 20, loss: 0.349, accuracy: 0.973\n",
            "Epoch: 30, loss: 0.297, accuracy: 0.973\n",
            "Epoch: 40, loss: 0.263, accuracy: 0.973\n"
          ]
        }
      ],
      "source": [
        "# Training loop\n",
        "for epoch_num in range(NUM_EPOCHS):\n",
        "\n",
        "    # Forward pass [NX2] · [2X2] = [NX2]\n",
        "    logits = np.dot(X_train, W) + b\n",
        "    \n",
        "    # Normalization via softmax to obtain class probabilities\n",
        "    exp_logits = np.exp(logits)\n",
        "    y_hat = exp_logits / np.sum(exp_logits, axis=1, keepdims=True)\n",
        "\n",
        "    # Loss\n",
        "    correct_class_logprobs = -np.log(y_hat[range(len(y_hat)), y_train])\n",
        "    loss = np.sum(correct_class_logprobs) / len(y_train)\n",
        "\n",
        "    # show progress\n",
        "    if epoch_num%10 == 0:\n",
        "        # Accuracy\n",
        "        y_pred = np.argmax(logits, axis=1)\n",
        "        accuracy =  np.mean(np.equal(y_train, y_pred))\n",
        "        print (f\"Epoch: {epoch_num}, loss: {loss:.3f}, accuracy: {accuracy:.3f}\")\n",
        "\n",
        "    # Backpropagation\n",
        "    dscores = y_hat\n",
        "    dscores[range(len(y_hat)), y_train] -= 1\n",
        "    dscores /= len(y_train)\n",
        "    dW = np.dot(X_train.T, dscores)\n",
        "    db = np.sum(dscores, axis=0, keepdims=True)\n",
        "\n",
        "    # Update weights\n",
        "    W += -LEARNING_RATE * dW\n",
        "    b += -LEARNING_RATE * db"
      ]
    },
    {
      "cell_type": "markdown",
      "metadata": {
        "id": "EEcyevNxQO36"
      },
      "source": [
        "## Evaluation"
      ]
    },
    {
      "cell_type": "markdown",
      "metadata": {
        "id": "2zHB-mHA1-Uh"
      },
      "source": [
        "Now we're ready to evaluate our trained model on our test (hold-out) data split."
      ]
    },
    {
      "cell_type": "code",
      "execution_count": 35,
      "metadata": {
        "id": "TpE3oDpIhhBH"
      },
      "outputs": [],
      "source": [
        "class LogisticRegressionFromScratch():\n",
        "    def predict(self, x):\n",
        "        logits = np.dot(x, W) + b\n",
        "        exp_logits = np.exp(logits)\n",
        "        y_hat = exp_logits / np.sum(exp_logits, axis=1, keepdims=True)\n",
        "        return y_hat"
      ]
    },
    {
      "cell_type": "code",
      "execution_count": 36,
      "metadata": {
        "id": "-6T8rm1bw_Sw"
      },
      "outputs": [],
      "source": [
        "# Evaluation\n",
        "model = LogisticRegressionFromScratch()\n",
        "logits_train = model.predict(X_train)\n",
        "pred_train = np.argmax(logits_train, axis=1)\n",
        "logits_test = model.predict(X_test)\n",
        "pred_test = np.argmax(logits_test, axis=1)"
      ]
    },
    {
      "cell_type": "code",
      "execution_count": 37,
      "metadata": {
        "colab": {
          "base_uri": "https://localhost:8080/"
        },
        "id": "Smy3DxJazGFm",
        "outputId": "d9141653-bbcc-4cca-c6f9-bec3e2e78d3b"
      },
      "outputs": [
        {
          "output_type": "stream",
          "name": "stdout",
          "text": [
            "train acc: 0.97, test acc: 0.97\n"
          ]
        }
      ],
      "source": [
        "# Training and test accuracy\n",
        "train_acc =  np.mean(np.equal(y_train, pred_train))\n",
        "test_acc = np.mean(np.equal(y_test, pred_test))\n",
        "print (f\"train acc: {train_acc:.2f}, test acc: {test_acc:.2f}\")"
      ]
    },
    {
      "cell_type": "code",
      "execution_count": 38,
      "metadata": {
        "id": "Cv-Dxp4AxeWh"
      },
      "outputs": [],
      "source": [
        "def plot_multiclass_decision_boundary(model, X, y, savefig_fp=None):\n",
        "    \"\"\"Plot the multiclass decision boundary for a model that accepts 2D inputs.\n",
        "    Credit: https://cs231n.github.io/neural-networks-case-study/\n",
        "\n",
        "    Arguments:\n",
        "        model {function} -- trained model with function model.predict(x_in).\n",
        "        X {numpy.ndarray} -- 2D inputs with shape (N, 2).\n",
        "        y {numpy.ndarray} -- 1D outputs with shape (N,).\n",
        "    \"\"\"\n",
        "    # Axis boundaries\n",
        "    x_min, x_max = X[:, 0].min() - 0.1, X[:, 0].max() + 0.1\n",
        "    y_min, y_max = X[:, 1].min() - 0.1, X[:, 1].max() + 0.1\n",
        "    xx, yy = np.meshgrid(np.linspace(x_min, x_max, 101),\n",
        "                         np.linspace(y_min, y_max, 101))\n",
        "\n",
        "    # Create predictions\n",
        "    x_in = np.c_[xx.ravel(), yy.ravel()]\n",
        "    y_pred = model.predict(x_in)\n",
        "    y_pred = np.argmax(y_pred, axis=1).reshape(xx.shape)\n",
        "\n",
        "    # Plot decision boundary\n",
        "    plt.contourf(xx, yy, y_pred, cmap=plt.cm.Spectral, alpha=0.8)\n",
        "    plt.scatter(X[:, 0], X[:, 1], c=y, s=40, cmap=plt.cm.RdYlBu)\n",
        "    plt.xlim(xx.min(), xx.max())\n",
        "    plt.ylim(yy.min(), yy.max())\n",
        "\n",
        "    # Plot\n",
        "    if savefig_fp:\n",
        "        plt.savefig(savefig_fp, format=\"png\")"
      ]
    },
    {
      "cell_type": "code",
      "execution_count": 39,
      "metadata": {
        "colab": {
          "base_uri": "https://localhost:8080/",
          "height": 336
        },
        "id": "Z7RorJHHxfW7",
        "outputId": "4fc37619-6b3b-422f-d71f-1b9b6283ac1b"
      },
      "outputs": [
        {
          "output_type": "display_data",
          "data": {
            "text/plain": [
              "<Figure size 864x360 with 2 Axes>"
            ],
            "image/png": "[encoded data removed]"
          },
          "metadata": {
            "needs_background": "light"
          }
        }
      ],
      "source": [
        "# Visualize the decision boundary\n",
        "plt.figure(figsize=(12,5))\n",
        "plt.subplot(1, 2, 1)\n",
        "plt.title(\"Train\")\n",
        "plot_multiclass_decision_boundary(model=model, X=X_train, y=y_train)\n",
        "plt.subplot(1, 2, 2)\n",
        "plt.title(\"Test\")\n",
        "plot_multiclass_decision_boundary(model=model, X=X_test, y=y_test)\n",
        "plt.show()"
      ]
    },
    {
      "cell_type": "markdown",
      "metadata": {
        "id": "7Cy3efR7s7HD"
      },
      "source": [
        "# PyTorch"
      ]
    },
    {
      "cell_type": "markdown",
      "metadata": {
        "id": "hsnnH37eYxql"
      },
      "source": [
        "Now that we've implemented logistic regression with Numpy, let's do the same with PyTorch. "
      ]
    },
    {
      "cell_type": "code",
      "execution_count": null,
      "metadata": {
        "id": "mWEfPoXzYxym"
      },
      "outputs": [],
      "source": [
        "import torch"
      ]
    },
    {
      "cell_type": "code",
      "execution_count": null,
      "metadata": {
        "colab": {
          "base_uri": "https://localhost:8080/"
        },
        "id": "jVS_h2-cZW6U",
        "outputId": "1d2426ad-977f-4ba5-990e-8e58359bbeca"
      },
      "outputs": [
        {
          "data": {
            "text/plain": [
              "<torch._C.Generator at 0x7f2549940138>"
            ]
          },
          "execution_count": 39,
          "metadata": {
            "tags": []
          },
          "output_type": "execute_result"
        }
      ],
      "source": [
        "# Set seed for reproducibility\n",
        "torch.manual_seed(SEED)"
      ]
    },
    {
      "cell_type": "markdown",
      "metadata": {
        "id": "-h-dlCTaYowa"
      },
      "source": [
        "## Model"
      ]
    },
    {
      "cell_type": "markdown",
      "metadata": {
        "id": "CuGUAtHkyFBv"
      },
      "source": [
        "We will be using [Linear layers](https://pytorch.org/docs/stable/nn.html#linear-layers)  to recreate the same model."
      ]
    },
    {
      "cell_type": "code",
      "execution_count": null,
      "metadata": {
        "id": "7-vm9AZm1_f9"
      },
      "outputs": [],
      "source": [
        "from torch import nn\n",
        "import torch.nn.functional as F\n",
        "from torchsummary import summary"
      ]
    },
    {
      "cell_type": "code",
      "execution_count": null,
      "metadata": {
        "id": "p63Ws2STYolf"
      },
      "outputs": [],
      "source": [
        "class LogisticRegression(nn.Module):\n",
        "    def __init__(self, input_dim, num_classes):\n",
        "        super(LogisticRegression, self).__init__()\n",
        "        self.fc1 = nn.Linear(input_dim, num_classes)\n",
        "        \n",
        "    def forward(self, x_in, apply_softmax=False):\n",
        "        y_pred = self.fc1(x_in)\n",
        "        if apply_softmax:\n",
        "            y_pred = F.softmax(y_pred, dim=1) \n",
        "        return y_pred"
      ]
    },
    {
      "cell_type": "code",
      "execution_count": null,
      "metadata": {
        "colab": {
          "base_uri": "https://localhost:8080/"
        },
        "id": "6kJgaEqIcyHR",
        "outputId": "a6437bac-1048-4fbc-f34d-6d4d403d53ee"
      },
      "outputs": [
        {
          "name": "stdout",
          "output_type": "stream",
          "text": [
            "<bound method Module.named_parameters of LogisticRegression(\n",
            "  (fc1): Linear(in_features=2, out_features=2, bias=True)\n",
            ")>\n"
          ]
        }
      ],
      "source": [
        "# Initialize model\n",
        "model = LogisticRegression(input_dim=INPUT_DIM, num_classes=NUM_CLASSES)\n",
        "print (model.named_parameters)"
      ]
    },
    {
      "cell_type": "markdown",
      "metadata": {
        "id": "alKyigoqa9w9"
      },
      "source": [
        "## Loss"
      ]
    },
    {
      "cell_type": "markdown",
      "metadata": {
        "id": "NLkVlnQJaQ4q"
      },
      "source": [
        "Our loss will be the categorical [crossentropy](https://pytorch.org/docs/stable/generated/torch.nn.CrossEntropyLoss.html#torch.nn.CrossEntropyLoss). "
      ]
    },
    {
      "cell_type": "code",
      "execution_count": null,
      "metadata": {
        "colab": {
          "base_uri": "https://localhost:8080/"
        },
        "id": "wux5LwEGbFI7",
        "outputId": "331fd171-e3c7-4934-f02d-02263b1d9ce2"
      },
      "outputs": [
        {
          "name": "stdout",
          "output_type": "stream",
          "text": [
            "tensor([0, 0, 0])\n",
            "Loss: 1.2779091596603394\n"
          ]
        }
      ],
      "source": [
        "loss_fn = nn.CrossEntropyLoss()\n",
        "y_pred = torch.randn(3, NUM_CLASSES, requires_grad=False)\n",
        "y_true = torch.empty(3, dtype=torch.long).random_(NUM_CLASSES)\n",
        "print (y_true)\n",
        "loss = loss_fn(y_pred, y_true)\n",
        "print(f\"Loss: {loss.numpy()}\")"
      ]
    },
    {
      "cell_type": "markdown",
      "metadata": {
        "id": "fl5kYzXVcahy"
      },
      "source": [
        "In our case, we will also incorporate the class weights into our loss function to counter any class imbalances."
      ]
    },
    {
      "cell_type": "code",
      "execution_count": null,
      "metadata": {
        "id": "4gsEd7Mccarr"
      },
      "outputs": [],
      "source": [
        "# Define Loss\n",
        "class_weights_tensor = torch.Tensor(list(class_weights.values()))\n",
        "loss_fn = nn.CrossEntropyLoss(weight=class_weights_tensor)"
      ]
    },
    {
      "cell_type": "markdown",
      "metadata": {
        "id": "f9oyIzgccYLy"
      },
      "source": [
        "## Metrics"
      ]
    },
    {
      "cell_type": "markdown",
      "metadata": {
        "id": "3bb9eYXXUYVC"
      },
      "source": [
        "We'll compute accuracy as we train our model because just looking the loss value isn't super intuitive to look at. We'll look at other metrics (precision, recall, f1) in the evaluation section below."
      ]
    },
    {
      "cell_type": "code",
      "execution_count": null,
      "metadata": {
        "id": "rwzXNiPZcaCU"
      },
      "outputs": [],
      "source": [
        "# Accuracy\n",
        "def accuracy_fn(y_pred, y_true):\n",
        "    n_correct = torch.eq(y_pred, y_true).sum().item()\n",
        "    accuracy = (n_correct / len(y_pred)) * 100\n",
        "    return accuracy"
      ]
    },
    {
      "cell_type": "code",
      "execution_count": null,
      "metadata": {
        "colab": {
          "base_uri": "https://localhost:8080/"
        },
        "id": "94eG68-OzrWt",
        "outputId": "0d2d83db-f28b-4db0-9ad5-95dfdbea2337"
      },
      "outputs": [
        {
          "name": "stdout",
          "output_type": "stream",
          "text": [
            "Accuracy: 33.3\n"
          ]
        }
      ],
      "source": [
        "y_pred = torch.Tensor([0, 0, 1])\n",
        "y_true = torch.Tensor([1, 1, 1])\n",
        "print(f\"Accuracy: {accuracy_fn(y_pred, y_true):.1f}\")"
      ]
    },
    {
      "cell_type": "markdown",
      "metadata": {
        "id": "m2zZs70qaOWn"
      },
      "source": [
        "## Optimizer"
      ]
    },
    {
      "cell_type": "markdown",
      "metadata": {
        "id": "e6b4SDgjUadx"
      },
      "source": [
        "We'll be sticking with our Adam optimizer from previous lessons."
      ]
    },
    {
      "cell_type": "code",
      "execution_count": null,
      "metadata": {
        "id": "DWeLpGaIa64l"
      },
      "outputs": [],
      "source": [
        "from torch.optim import Adam"
      ]
    },
    {
      "cell_type": "code",
      "execution_count": null,
      "metadata": {
        "id": "oqzC6hRla7FN"
      },
      "outputs": [],
      "source": [
        "# Optimizer\n",
        "optimizer = Adam(model.parameters(), lr=LEARNING_RATE) "
      ]
    },
    {
      "cell_type": "markdown",
      "metadata": {
        "id": "BTjMYiOQcqNb"
      },
      "source": [
        "## Training"
      ]
    },
    {
      "cell_type": "code",
      "execution_count": null,
      "metadata": {
        "id": "1X9BaZWwdD0P"
      },
      "outputs": [],
      "source": [
        "# Convert data to tensors\n",
        "X_train = torch.Tensor(X_train)\n",
        "y_train = torch.LongTensor(y_train)\n",
        "X_val = torch.Tensor(X_val)\n",
        "y_val = torch.LongTensor(y_val)\n",
        "X_test = torch.Tensor(X_test)\n",
        "y_test = torch.LongTensor(y_test)"
      ]
    },
    {
      "cell_type": "code",
      "execution_count": null,
      "metadata": {
        "colab": {
          "base_uri": "https://localhost:8080/"
        },
        "id": "hA7Oz97NAe8A",
        "outputId": "ab19931f-9ba0-4720-c8fe-119c4bc81250"
      },
      "outputs": [
        {
          "name": "stdout",
          "output_type": "stream",
          "text": [
            "Epoch: 0 | loss: 0.96, accuracy: 60.7\n",
            "Epoch: 10 | loss: 0.28, accuracy: 87.0\n",
            "Epoch: 20 | loss: 0.15, accuracy: 95.6\n",
            "Epoch: 30 | loss: 0.12, accuracy: 97.7\n",
            "Epoch: 40 | loss: 0.10, accuracy: 98.3\n"
          ]
        }
      ],
      "source": [
        "# Training\n",
        "for epoch in range(NUM_EPOCHS):\n",
        "    # Forward pass\n",
        "    y_pred = model(X_train)\n",
        "\n",
        "    # Loss\n",
        "    loss = loss_fn(y_pred, y_train)\n",
        "\n",
        "    # Zero all gradients\n",
        "    optimizer.zero_grad()\n",
        "\n",
        "    # Backward pass\n",
        "    loss.backward()\n",
        "\n",
        "    # Update weights\n",
        "    optimizer.step()\n",
        "\n",
        "    if epoch%10==0: \n",
        "        predictions = y_pred.max(dim=1)[1] # class\n",
        "        accuracy = accuracy_fn(y_pred=predictions, y_true=y_train)\n",
        "        print (f\"Epoch: {epoch} | loss: {loss:.2f}, accuracy: {accuracy:.1f}\")"
      ]
    },
    {
      "cell_type": "markdown",
      "metadata": {
        "id": "dM7iYW8ANYjy"
      },
      "source": [
        "## Evaluation"
      ]
    },
    {
      "cell_type": "markdown",
      "metadata": {
        "id": "rEcS6Qw5VA-i"
      },
      "source": [
        "First let's see the accuracy of our model on our test split."
      ]
    },
    {
      "cell_type": "code",
      "execution_count": null,
      "metadata": {
        "id": "oGx8sCGMVbrv"
      },
      "outputs": [],
      "source": [
        "from sklearn.metrics import accuracy_score"
      ]
    },
    {
      "cell_type": "code",
      "execution_count": null,
      "metadata": {
        "colab": {
          "base_uri": "https://localhost:8080/"
        },
        "id": "-jZtTd7F6_ps",
        "outputId": "e6f7430c-7bfc-4c13-e88c-25ae26b12c27"
      },
      "outputs": [
        {
          "name": "stdout",
          "output_type": "stream",
          "text": [
            "sample probability: tensor([0.0449, 0.9551], grad_fn=<SelectBackward>)\n",
            "sample class: 1\n"
          ]
        }
      ],
      "source": [
        "# Predictions\n",
        "pred_train = model(X_train, apply_softmax=True)\n",
        "pred_test = model(X_test, apply_softmax=True)\n",
        "print (f\"sample probability: {pred_test[0]}\")\n",
        "pred_train = pred_train.max(dim=1)[1]\n",
        "pred_test = pred_test.max(dim=1)[1]\n",
        "print (f\"sample class: {pred_test[0]}\")"
      ]
    },
    {
      "cell_type": "code",
      "execution_count": null,
      "metadata": {
        "colab": {
          "base_uri": "https://localhost:8080/"
        },
        "id": "sEjansj78Rqe",
        "outputId": "1d7f7d81-b7e7-49d7-dfb7-11c5a23ff253"
      },
      "outputs": [
        {
          "name": "stdout",
          "output_type": "stream",
          "text": [
            "train acc: 0.98, test acc: 0.98\n"
          ]
        }
      ],
      "source": [
        "# Accuracy (could've also used our own accuracy function)\n",
        "train_acc = accuracy_score(y_train, pred_train)\n",
        "test_acc = accuracy_score(y_test, pred_test)\n",
        "print (f\"train acc: {train_acc:.2f}, test acc: {test_acc:.2f}\")"
      ]
    },
    {
      "cell_type": "markdown",
      "metadata": {
        "id": "LUpnux8DVqnV"
      },
      "source": [
        "We can also evaluate our model on other meaningful metrics such as precision and recall. These are especially useful when there is data imbalance present."
      ]
    },
    {
      "cell_type": "markdown",
      "metadata": {
        "id": "80MwyE0yOr-k"
      },
      "source": [
        "$\\text{accuracy} = \\frac{TP+TN}{TP+TN+FP+FN}$ \n",
        "\n",
        "$\\text{recall} = \\frac{TP}{TP+FN}$ → (how many of the actual issues did I catch)\n",
        "\n",
        "$\\text{precision} = \\frac{TP}{TP+FP}$ → (out of all the things I said were issues, how many were actually issues)\n",
        "\n",
        "$F_1 = 2 * \\frac{\\text{precision }  *  \\text{ recall}}{\\text{precision } + \\text{ recall}}$\n",
        "\n",
        "where: \n",
        "* TP: # of samples truly predicted to be positive and were positive\n",
        "* TN: # of samples truly predicted to be negative and were negative\n",
        "* FP: # of samples falsely predicted to be positive but were negative\n",
        "* FN: # of samples falsely predicted to be negative but were positive"
      ]
    },
    {
      "cell_type": "code",
      "execution_count": null,
      "metadata": {
        "id": "ClkXhEZcVqwV"
      },
      "outputs": [],
      "source": [
        "import json\n",
        "import matplotlib.pyplot as plt\n",
        "from sklearn.metrics import precision_recall_fscore_support"
      ]
    },
    {
      "cell_type": "code",
      "execution_count": null,
      "metadata": {
        "id": "5NzU9m7HWgh7"
      },
      "outputs": [],
      "source": [
        "def get_performance(y_true, y_pred, classes):\n",
        "    \"\"\"Per-class performance metrics.\"\"\"\n",
        "    # Performance\n",
        "    performance = {\"overall\": {}, \"class\": {}}\n",
        "\n",
        "    # Overall performance\n",
        "    metrics = precision_recall_fscore_support(y_true, y_pred, average=\"weighted\")\n",
        "    performance[\"overall\"][\"precision\"] = metrics[0]\n",
        "    performance[\"overall\"][\"recall\"] = metrics[1]\n",
        "    performance[\"overall\"][\"f1\"] = metrics[2]\n",
        "    performance[\"overall\"][\"num_samples\"] = np.float64(len(y_true))\n",
        "\n",
        "    # Per-class performance\n",
        "    metrics = precision_recall_fscore_support(y_true, y_pred, average=None)\n",
        "    for i in range(len(classes)):\n",
        "        performance[\"class\"][classes[i]] = {\n",
        "            \"precision\": metrics[0][i],\n",
        "            \"recall\": metrics[1][i],\n",
        "            \"f1\": metrics[2][i],\n",
        "            \"num_samples\": np.float64(metrics[3][i]),\n",
        "        }\n",
        "\n",
        "    return performance"
      ]
    },
    {
      "cell_type": "code",
      "execution_count": null,
      "metadata": {
        "colab": {
          "base_uri": "https://localhost:8080/"
        },
        "id": "8N8jPq_Cy2hp",
        "outputId": "722d2c68-372e-4e2b-d41c-bb6d81dd3d33"
      },
      "outputs": [
        {
          "name": "stdout",
          "output_type": "stream",
          "text": [
            "{\n",
            "  \"overall\": {\n",
            "    \"precision\": 0.9804753820033956,\n",
            "    \"recall\": 0.9773238380809595,\n",
            "    \"f1\": 0.9788484136310223,\n",
            "    \"num_samples\": 150.0\n",
            "  },\n",
            "  \"class\": {\n",
            "    \"benign\": {\n",
            "      \"precision\": 0.9824561403508771,\n",
            "      \"recall\": 0.9655172413793104,\n",
            "      \"f1\": 0.9739130434782608,\n",
            "      \"num_samples\": 58.0\n",
            "    },\n",
            "    \"malignant\": {\n",
            "      \"precision\": 0.978494623655914,\n",
            "      \"recall\": 0.9891304347826086,\n",
            "      \"f1\": 0.9837837837837837,\n",
            "      \"num_samples\": 92.0\n",
            "    }\n",
            "  }\n",
            "}\n"
          ]
        }
      ],
      "source": [
        "# Performance\n",
        "performance = get_performance(y_true=y_test, y_pred=pred_test, classes=label_encoder.classes)\n",
        "print (json.dumps(performance, indent=2))"
      ]
    },
    {
      "cell_type": "markdown",
      "metadata": {
        "id": "MmEzXIiJW5tJ"
      },
      "source": [
        "With logistic regression (extension of linear regression), the model creates a linear decision boundary that we can easily visualize."
      ]
    },
    {
      "cell_type": "code",
      "execution_count": null,
      "metadata": {
        "id": "CnjfgWu9W43L"
      },
      "outputs": [],
      "source": [
        "def plot_multiclass_decision_boundary(model, X, y):\n",
        "    x_min, x_max = X[:, 0].min() - 0.1, X[:, 0].max() + 0.1\n",
        "    y_min, y_max = X[:, 1].min() - 0.1, X[:, 1].max() + 0.1\n",
        "    xx, yy = np.meshgrid(np.linspace(x_min, x_max, 101), np.linspace(y_min, y_max, 101))\n",
        "    cmap = plt.cm.Spectral\n",
        "    \n",
        "    X_test = torch.from_numpy(np.c_[xx.ravel(), yy.ravel()]).float()\n",
        "    y_pred = model(X_test, apply_softmax=True)\n",
        "    _, y_pred = y_pred.max(dim=1)\n",
        "    y_pred = y_pred.reshape(xx.shape)\n",
        "    plt.contourf(xx, yy, y_pred, cmap=plt.cm.Spectral, alpha=0.8)\n",
        "    plt.scatter(X[:, 0], X[:, 1], c=y, s=40, cmap=plt.cm.RdYlBu)\n",
        "    plt.xlim(xx.min(), xx.max())\n",
        "    plt.ylim(yy.min(), yy.max())"
      ]
    },
    {
      "cell_type": "code",
      "execution_count": null,
      "metadata": {
        "colab": {
          "base_uri": "https://localhost:8080/",
          "height": 336
        },
        "id": "PR2_G8mBW48k",
        "outputId": "f41f001f-bd82-44e2-ad5a-07bc94dfed18"
      },
      "outputs": [
        {
          "data": {
            "image/png": "[encoded data removed]",
            "text/plain": [
              "<Figure size 864x360 with 2 Axes>"
            ]
          },
          "metadata": {
            "needs_background": "light",
            "tags": []
          },
          "output_type": "display_data"
        }
      ],
      "source": [
        "# Visualize the decision boundary\n",
        "plt.figure(figsize=(12,5))\n",
        "plt.subplot(1, 2, 1)\n",
        "plt.title(\"Train\")\n",
        "plot_multiclass_decision_boundary(model=model, X=X_train, y=y_train)\n",
        "plt.subplot(1, 2, 2)\n",
        "plt.title(\"Test\")\n",
        "plot_multiclass_decision_boundary(model=model, X=X_test, y=y_test)\n",
        "plt.show()"
      ]
    },
    {
      "cell_type": "markdown",
      "metadata": {
        "id": "9v6zc1_1PWnz"
      },
      "source": [
        "## Inference"
      ]
    },
    {
      "cell_type": "code",
      "execution_count": null,
      "metadata": {
        "colab": {
          "base_uri": "https://localhost:8080/",
          "height": 80
        },
        "id": "kX9428-EPUzx",
        "outputId": "983b0494-6b21-4f1a-9236-a03428ce8798"
      },
      "outputs": [
        {
          "data": {
            "text/html": [
              "<div>\n",
              "<style scoped>\n",
              "    .dataframe tbody tr th:only-of-type {\n",
              "        vertical-align: middle;\n",
              "    }\n",
              "\n",
              "    .dataframe tbody tr th {\n",
              "        vertical-align: top;\n",
              "    }\n",
              "\n",
              "    .dataframe thead th {\n",
              "        text-align: right;\n",
              "    }\n",
              "</style>\n",
              "<table border=\"1\" class=\"dataframe\">\n",
              "  <thead>\n",
              "    <tr style=\"text-align: right;\">\n",
              "      <th></th>\n",
              "      <th>leukocyte_count</th>\n",
              "      <th>blood_pressure</th>\n",
              "    </tr>\n",
              "  </thead>\n",
              "  <tbody>\n",
              "    <tr>\n",
              "      <th>0</th>\n",
              "      <td>13</td>\n",
              "      <td>12</td>\n",
              "    </tr>\n",
              "  </tbody>\n",
              "</table>\n",
              "</div>"
            ],
            "text/plain": [
              "   leukocyte_count  blood_pressure\n",
              "0               13              12"
            ]
          },
          "execution_count": 64,
          "metadata": {
            "tags": []
          },
          "output_type": "execute_result"
        }
      ],
      "source": [
        "# Inputs for inference\n",
        "X_infer = pd.DataFrame([{\"leukocyte_count\": 13, \"blood_pressure\": 12}])\n",
        "X_infer.head()"
      ]
    },
    {
      "cell_type": "code",
      "execution_count": null,
      "metadata": {
        "colab": {
          "base_uri": "https://localhost:8080/"
        },
        "id": "3qY6buxLKb2o",
        "outputId": "e2c9d291-a9f6-4f41-c17a-1f88c105ffd3"
      },
      "outputs": [
        {
          "name": "stdout",
          "output_type": "stream",
          "text": [
            "[[-0.68505296 -3.11487099]]\n"
          ]
        }
      ],
      "source": [
        "# Standardize\n",
        "X_infer = X_scaler.transform(X_infer)\n",
        "print (X_infer)"
      ]
    },
    {
      "cell_type": "code",
      "execution_count": null,
      "metadata": {
        "colab": {
          "base_uri": "https://localhost:8080/"
        },
        "id": "7O5PbOAvXTzF",
        "outputId": "371dfff9-df29-4097-b7dc-6963287788d7"
      },
      "outputs": [
        {
          "name": "stdout",
          "output_type": "stream",
          "text": [
            "The probability that you have a benign tumor is 93%\n"
          ]
        }
      ],
      "source": [
        "# Predict\n",
        "y_infer = model(torch.Tensor(X_infer), apply_softmax=True)\n",
        "prob, _class = y_infer.max(dim=1)\n",
        "label = label_encoder.decode(_class.detach().numpy())[0]\n",
        "print (f\"The probability that you have a {label} tumor is {prob.detach().numpy()[0]*100.0:.0f}%\")"
      ]
    },
    {
      "cell_type": "markdown",
      "metadata": {
        "id": "8PLPFFP67tvL"
      },
      "source": [
        "# Unscaled weights"
      ]
    },
    {
      "cell_type": "markdown",
      "metadata": {
        "id": "_XYBW85WIdKy"
      },
      "source": [
        "Note that only X was standardized.\n",
        "\n",
        "$\\hat{y}_{unscaled} = b_{scaled} + \\sum_{j=1}^{k}W_{{scaled}_j}x_{{scaled}_j}$\n",
        "* $x_{scaled} = \\frac{x_j - \\bar{x}_j}{\\sigma_j}$\n",
        "\n",
        "$\\hat{y}_{unscaled} = b_{scaled} + \\sum_{j=1}^{k} W_{{scaled}_j} (\\frac{x_j - \\bar{x}_j}{\\sigma_j}) $\n",
        "\n",
        "$\\hat{y}_{unscaled} = (b_{scaled} - \\sum_{j=1}^{k} W_{{scaled}_j}\\frac{\\bar{x}_j}{\\sigma_j}) +  \\sum_{j=1}^{k} (\\frac{W_{{scaled}_j}}{\\sigma_j})x_j$\n",
        "\n",
        "In the expression above, we can see the expression $\\hat{y}_{unscaled} = W_{unscaled}x + b_{unscaled} $, therefore:\n",
        "\n",
        "* $W_{unscaled} = \\sum_{j=1}^{k} (\\frac{W_{{scaled}_j}}{\\sigma_j}) $\n",
        "\n",
        "* $b_{unscaled} = b_{scaled} - \\sum_{j=1}^{k} W_{{scaled}_j}\\frac{\\bar{x}_j}{\\sigma_j}$"
      ]
    },
    {
      "cell_type": "code",
      "execution_count": null,
      "metadata": {
        "colab": {
          "base_uri": "https://localhost:8080/"
        },
        "id": "KTSpxbwy7ugl",
        "outputId": "c2f31ef4-21e3-4d71-e6c1-a6164a5606d7"
      },
      "outputs": [
        {
          "name": "stdout",
          "output_type": "stream",
          "text": [
            "[[ 0.61299698 -1.18550903]\n",
            " [-0.9537106   0.88432898]]\n",
            "[ 8.929324 10.233843]\n"
          ]
        }
      ],
      "source": [
        "# Unstandardize weights \n",
        "W = model.fc1.weight.data.numpy()\n",
        "b = model.fc1.bias.data.numpy()\n",
        "W_unscaled = W / X_scaler.scale_\n",
        "b_unscaled = b - np.sum((W_unscaled * X_scaler.mean_))\n",
        "print (W_unscaled)\n",
        "print (b_unscaled)"
      ]
    }
  ],
  "metadata": {
    "colab": {
      "provenance": [],
      "include_colab_link": true
    },
    "kernelspec": {
      "display_name": "Python 3.9.1 64-bit ('3.9.1')",
      "language": "python",
      "name": "python3"
    },
    "language_info": {
      "name": "python",
      "version": "3.9.1"
    },
    "vscode": {
      "interpreter": {
        "hash": "86a18fab98e45cbbb46dd97b38b13914cb97c5aa653edcee9fd16b53f5a0e542"
      }
    }
  },
  "nbformat": 4,
  "nbformat_minor": 0
}